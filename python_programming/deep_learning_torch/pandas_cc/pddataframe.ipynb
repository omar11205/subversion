{
 "cells": [
  {
   "cell_type": "code",
   "id": "initial_id",
   "metadata": {
    "collapsed": true,
    "ExecuteTime": {
     "end_time": "2024-04-20T18:09:04.772932Z",
     "start_time": "2024-04-20T18:09:04.467751Z"
    }
   },
   "source": [
    "import pandas as pd\n",
    "import numpy as np"
   ],
   "outputs": [],
   "execution_count": 1
  },
  {
   "metadata": {
    "ExecuteTime": {
     "end_time": "2024-04-20T18:10:18.501614Z",
     "start_time": "2024-04-20T18:10:18.498171Z"
    }
   },
   "cell_type": "code",
   "source": [
    "# a dataframe is simply multiple series that share the same index\n",
    "# a tabular data storage format"
   ],
   "id": "7d4aaf6d7d62396b",
   "outputs": [],
   "execution_count": 2
  },
  {
   "metadata": {
    "ExecuteTime": {
     "end_time": "2024-04-20T18:14:04.576539Z",
     "start_time": "2024-04-20T18:14:04.571274Z"
    }
   },
   "cell_type": "code",
   "source": [
    "from numpy.random import randn\n",
    "np.random.seed(101)\n",
    "\n",
    "rand_mat = randn(5,4)\n",
    "print(rand_mat)"
   ],
   "id": "b34d48378fdfb886",
   "outputs": [
    {
     "name": "stdout",
     "output_type": "stream",
     "text": [
      "[[ 2.70684984  0.62813271  0.90796945  0.50382575]\n",
      " [ 0.65111795 -0.31931804 -0.84807698  0.60596535]\n",
      " [-2.01816824  0.74012206  0.52881349 -0.58900053]\n",
      " [ 0.18869531 -0.75887206 -0.93323722  0.95505651]\n",
      " [ 0.19079432  1.97875732  2.60596728  0.68350889]]\n"
     ]
    }
   ],
   "execution_count": 3
  },
  {
   "metadata": {
    "ExecuteTime": {
     "end_time": "2024-04-20T18:17:02.412026Z",
     "start_time": "2024-04-20T18:17:02.408845Z"
    }
   },
   "cell_type": "code",
   "source": "dframe = pd.DataFrame(data=rand_mat, index=['a', 'b', 'c', 'd', 'e'], columns=['w', 'x', 'y', 'z'])",
   "id": "6efac8359fd6f47e",
   "outputs": [],
   "execution_count": 4
  },
  {
   "metadata": {
    "ExecuteTime": {
     "end_time": "2024-04-20T18:17:09.152106Z",
     "start_time": "2024-04-20T18:17:09.147301Z"
    }
   },
   "cell_type": "code",
   "source": "print(dframe)",
   "id": "9994b7f75cb52258",
   "outputs": [
    {
     "name": "stdout",
     "output_type": "stream",
     "text": [
      "          w         x         y         z\n",
      "a  2.706850  0.628133  0.907969  0.503826\n",
      "b  0.651118 -0.319318 -0.848077  0.605965\n",
      "c -2.018168  0.740122  0.528813 -0.589001\n",
      "d  0.188695 -0.758872 -0.933237  0.955057\n",
      "e  0.190794  1.978757  2.605967  0.683509\n"
     ]
    }
   ],
   "execution_count": 5
  },
  {
   "metadata": {
    "ExecuteTime": {
     "end_time": "2024-04-20T18:17:26.996152Z",
     "start_time": "2024-04-20T18:17:26.990513Z"
    }
   },
   "cell_type": "code",
   "source": "type(dframe)",
   "id": "86a7303371d75740",
   "outputs": [
    {
     "data": {
      "text/plain": [
       "pandas.core.frame.DataFrame"
      ]
     },
     "execution_count": 6,
     "metadata": {},
     "output_type": "execute_result"
    }
   ],
   "execution_count": 6
  },
  {
   "metadata": {
    "ExecuteTime": {
     "end_time": "2024-04-20T18:17:49.716309Z",
     "start_time": "2024-04-20T18:17:49.712417Z"
    }
   },
   "cell_type": "code",
   "source": "type(dframe['w'])",
   "id": "b2fc3032ae53404f",
   "outputs": [
    {
     "data": {
      "text/plain": [
       "pandas.core.series.Series"
      ]
     },
     "execution_count": 7,
     "metadata": {},
     "output_type": "execute_result"
    }
   ],
   "execution_count": 7
  },
  {
   "metadata": {},
   "cell_type": "code",
   "outputs": [],
   "execution_count": null,
   "source": "",
   "id": "10f953fd6251a2"
  }
 ],
 "metadata": {
  "kernelspec": {
   "display_name": "Python 3",
   "language": "python",
   "name": "python3"
  },
  "language_info": {
   "codemirror_mode": {
    "name": "ipython",
    "version": 2
   },
   "file_extension": ".py",
   "mimetype": "text/x-python",
   "name": "python",
   "nbconvert_exporter": "python",
   "pygments_lexer": "ipython2",
   "version": "2.7.6"
  }
 },
 "nbformat": 4,
 "nbformat_minor": 5
}
