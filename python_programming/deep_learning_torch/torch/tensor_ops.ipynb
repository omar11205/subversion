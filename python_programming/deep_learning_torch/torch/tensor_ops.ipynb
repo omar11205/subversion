{
 "cells": [
  {
   "cell_type": "code",
   "id": "initial_id",
   "metadata": {
    "collapsed": true,
    "ExecuteTime": {
     "end_time": "2024-04-25T16:07:04.443376Z",
     "start_time": "2024-04-25T16:07:02.754229Z"
    }
   },
   "source": [
    "import torch\n",
    "import numpy as np"
   ],
   "outputs": [],
   "execution_count": 1
  },
  {
   "metadata": {
    "ExecuteTime": {
     "end_time": "2024-04-25T16:07:33.333590Z",
     "start_time": "2024-04-25T16:07:33.329084Z"
    }
   },
   "cell_type": "code",
   "source": [
    "x = torch.arange(6).reshape(3,2)\n",
    "print(x)"
   ],
   "id": "a4e91fcfe2746a0f",
   "outputs": [
    {
     "name": "stdout",
     "output_type": "stream",
     "text": [
      "tensor([[0, 1],\n",
      "        [2, 3],\n",
      "        [4, 5]])\n"
     ]
    }
   ],
   "execution_count": 2
  },
  {
   "metadata": {
    "ExecuteTime": {
     "end_time": "2024-04-25T16:07:54.782964Z",
     "start_time": "2024-04-25T16:07:54.777460Z"
    }
   },
   "cell_type": "code",
   "source": "type(x[1,1])",
   "id": "da05c3afbc0611f4",
   "outputs": [
    {
     "data": {
      "text/plain": [
       "torch.Tensor"
      ]
     },
     "execution_count": 3,
     "metadata": {},
     "output_type": "execute_result"
    }
   ],
   "execution_count": 3
  },
  {
   "metadata": {
    "ExecuteTime": {
     "end_time": "2024-04-25T16:08:11.951537Z",
     "start_time": "2024-04-25T16:08:11.942951Z"
    }
   },
   "cell_type": "code",
   "source": [
    "# returns a 1d tensor\n",
    "x[:,1]"
   ],
   "id": "a1cfeb56e4b4e572",
   "outputs": [
    {
     "data": {
      "text/plain": [
       "tensor([1, 3, 5])"
      ]
     },
     "execution_count": 4,
     "metadata": {},
     "output_type": "execute_result"
    }
   ],
   "execution_count": 4
  },
  {
   "metadata": {
    "ExecuteTime": {
     "end_time": "2024-04-25T16:09:05.969917Z",
     "start_time": "2024-04-25T16:09:05.965900Z"
    }
   },
   "cell_type": "code",
   "source": [
    "# returns a column tensor (column vector) (used often)\n",
    "x[:, 1:]"
   ],
   "id": "44b8a59e2ba97e78",
   "outputs": [
    {
     "data": {
      "text/plain": [
       "tensor([[1],\n",
       "        [3],\n",
       "        [5]])"
      ]
     },
     "execution_count": 5,
     "metadata": {},
     "output_type": "execute_result"
    }
   ],
   "execution_count": 5
  },
  {
   "metadata": {
    "ExecuteTime": {
     "end_time": "2024-04-25T16:10:24.602Z",
     "start_time": "2024-04-25T16:10:24.597979Z"
    }
   },
   "cell_type": "code",
   "source": [
    "x = torch.arange(10)\n",
    "print(x)"
   ],
   "id": "727ef2ebaa02b38a",
   "outputs": [
    {
     "name": "stdout",
     "output_type": "stream",
     "text": [
      "tensor([0, 1, 2, 3, 4, 5, 6, 7, 8, 9])\n"
     ]
    }
   ],
   "execution_count": 6
  },
  {
   "metadata": {},
   "cell_type": "code",
   "outputs": [],
   "execution_count": null,
   "source": "x.view(2, 5)",
   "id": "d1a57040afca3056"
  }
 ],
 "metadata": {
  "kernelspec": {
   "display_name": "Python 3",
   "language": "python",
   "name": "python3"
  },
  "language_info": {
   "codemirror_mode": {
    "name": "ipython",
    "version": 2
   },
   "file_extension": ".py",
   "mimetype": "text/x-python",
   "name": "python",
   "nbconvert_exporter": "python",
   "pygments_lexer": "ipython2",
   "version": "2.7.6"
  }
 },
 "nbformat": 4,
 "nbformat_minor": 5
}
