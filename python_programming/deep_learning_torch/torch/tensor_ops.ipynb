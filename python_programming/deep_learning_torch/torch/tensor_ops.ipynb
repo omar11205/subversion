{
 "cells": [
  {
   "cell_type": "code",
   "id": "initial_id",
   "metadata": {
    "collapsed": true,
    "ExecuteTime": {
     "end_time": "2024-04-28T15:58:10.590027Z",
     "start_time": "2024-04-28T15:58:08.301657Z"
    }
   },
   "source": [
    "import torch\n",
    "import numpy as np"
   ],
   "outputs": [],
   "execution_count": 1
  },
  {
   "metadata": {
    "ExecuteTime": {
     "end_time": "2024-04-28T15:58:10.606191Z",
     "start_time": "2024-04-28T15:58:10.590027Z"
    }
   },
   "cell_type": "code",
   "source": [
    "x = torch.arange(6).reshape(3,2)\n",
    "print(x)"
   ],
   "id": "a4e91fcfe2746a0f",
   "outputs": [
    {
     "name": "stdout",
     "output_type": "stream",
     "text": [
      "tensor([[0, 1],\n",
      "        [2, 3],\n",
      "        [4, 5]])\n"
     ]
    }
   ],
   "execution_count": 2
  },
  {
   "metadata": {
    "ExecuteTime": {
     "end_time": "2024-04-28T15:58:10.611899Z",
     "start_time": "2024-04-28T15:58:10.606191Z"
    }
   },
   "cell_type": "code",
   "source": "type(x[1,1])",
   "id": "da05c3afbc0611f4",
   "outputs": [
    {
     "data": {
      "text/plain": [
       "torch.Tensor"
      ]
     },
     "execution_count": 3,
     "metadata": {},
     "output_type": "execute_result"
    }
   ],
   "execution_count": 3
  },
  {
   "metadata": {
    "ExecuteTime": {
     "end_time": "2024-04-28T15:58:10.617600Z",
     "start_time": "2024-04-28T15:58:10.611899Z"
    }
   },
   "cell_type": "code",
   "source": [
    "# returns a 1d tensor\n",
    "x[:,1]"
   ],
   "id": "a1cfeb56e4b4e572",
   "outputs": [
    {
     "data": {
      "text/plain": [
       "tensor([1, 3, 5])"
      ]
     },
     "execution_count": 4,
     "metadata": {},
     "output_type": "execute_result"
    }
   ],
   "execution_count": 4
  },
  {
   "metadata": {
    "ExecuteTime": {
     "end_time": "2024-04-28T15:58:10.621568Z",
     "start_time": "2024-04-28T15:58:10.617600Z"
    }
   },
   "cell_type": "code",
   "source": [
    "# returns a column tensor (column vector) (used often)\n",
    "x[:, 1:]"
   ],
   "id": "44b8a59e2ba97e78",
   "outputs": [
    {
     "data": {
      "text/plain": [
       "tensor([[1],\n",
       "        [3],\n",
       "        [5]])"
      ]
     },
     "execution_count": 5,
     "metadata": {},
     "output_type": "execute_result"
    }
   ],
   "execution_count": 5
  },
  {
   "metadata": {
    "ExecuteTime": {
     "end_time": "2024-04-28T15:58:10.625332Z",
     "start_time": "2024-04-28T15:58:10.621568Z"
    }
   },
   "cell_type": "code",
   "source": [
    "x = torch.arange(10)\n",
    "print(x)"
   ],
   "id": "727ef2ebaa02b38a",
   "outputs": [
    {
     "name": "stdout",
     "output_type": "stream",
     "text": [
      "tensor([0, 1, 2, 3, 4, 5, 6, 7, 8, 9])\n"
     ]
    }
   ],
   "execution_count": 6
  },
  {
   "metadata": {
    "ExecuteTime": {
     "end_time": "2024-04-28T15:58:10.628363Z",
     "start_time": "2024-04-28T15:58:10.625332Z"
    }
   },
   "cell_type": "code",
   "source": "z = x.view(2, 5)",
   "id": "d1a57040afca3056",
   "outputs": [],
   "execution_count": 7
  },
  {
   "metadata": {
    "ExecuteTime": {
     "end_time": "2024-04-28T15:58:10.631602Z",
     "start_time": "2024-04-28T15:58:10.628363Z"
    }
   },
   "cell_type": "code",
   "source": "y = x.reshape(2, 5)",
   "id": "5c87f5a7f54c35be",
   "outputs": [],
   "execution_count": 8
  },
  {
   "metadata": {
    "ExecuteTime": {
     "end_time": "2024-04-28T15:58:10.636415Z",
     "start_time": "2024-04-28T15:58:10.631602Z"
    }
   },
   "cell_type": "code",
   "source": "x[0] = 9999",
   "id": "cb278b3f5650e73",
   "outputs": [],
   "execution_count": 9
  },
  {
   "metadata": {
    "ExecuteTime": {
     "end_time": "2024-04-28T15:58:10.639953Z",
     "start_time": "2024-04-28T15:58:10.636415Z"
    }
   },
   "cell_type": "code",
   "source": [
    "print(z)\n",
    "print(y)"
   ],
   "id": "f072ffaee49ea332",
   "outputs": [
    {
     "name": "stdout",
     "output_type": "stream",
     "text": [
      "tensor([[9999,    1,    2,    3,    4],\n",
      "        [   5,    6,    7,    8,    9]])\n",
      "tensor([[9999,    1,    2,    3,    4],\n",
      "        [   5,    6,    7,    8,    9]])\n"
     ]
    }
   ],
   "execution_count": 10
  },
  {
   "metadata": {
    "ExecuteTime": {
     "end_time": "2024-04-28T15:58:57.736942Z",
     "start_time": "2024-04-28T15:58:57.694677Z"
    }
   },
   "cell_type": "code",
   "source": "torch.cuda.is_available()",
   "id": "c63bc2588bf54739",
   "outputs": [
    {
     "data": {
      "text/plain": [
       "True"
      ]
     },
     "execution_count": 11,
     "metadata": {},
     "output_type": "execute_result"
    }
   ],
   "execution_count": 11
  },
  {
   "metadata": {
    "ExecuteTime": {
     "end_time": "2024-04-28T15:59:37.586545Z",
     "start_time": "2024-04-28T15:59:37.580419Z"
    }
   },
   "cell_type": "code",
   "source": "torch.cuda.get_device_name(0)",
   "id": "13cb69aeee63dd59",
   "outputs": [
    {
     "data": {
      "text/plain": [
       "'NVIDIA GeForce GTX 1070'"
      ]
     },
     "execution_count": 12,
     "metadata": {},
     "output_type": "execute_result"
    }
   ],
   "execution_count": 12
  },
  {
   "metadata": {
    "ExecuteTime": {
     "end_time": "2024-04-28T16:17:08.190174Z",
     "start_time": "2024-04-28T16:17:08.187592Z"
    }
   },
   "cell_type": "code",
   "source": [
    "a = torch.arange(3)\n",
    "b = torch.arange(3)"
   ],
   "id": "e1ea04dc56d851ee",
   "outputs": [],
   "execution_count": 16
  },
  {
   "metadata": {
    "ExecuteTime": {
     "end_time": "2024-04-28T16:17:16.638689Z",
     "start_time": "2024-04-28T16:17:16.632966Z"
    }
   },
   "cell_type": "code",
   "source": "c = torch.add(a, b)",
   "id": "b0e3f4a9539cfd3d",
   "outputs": [],
   "execution_count": 17
  },
  {
   "metadata": {
    "ExecuteTime": {
     "end_time": "2024-04-28T16:17:21.732655Z",
     "start_time": "2024-04-28T16:17:21.729080Z"
    }
   },
   "cell_type": "code",
   "source": "print(c)",
   "id": "dcedf9c0a75daefc",
   "outputs": [
    {
     "name": "stdout",
     "output_type": "stream",
     "text": [
      "tensor([0, 2, 4])\n"
     ]
    }
   ],
   "execution_count": 18
  },
  {
   "metadata": {
    "ExecuteTime": {
     "end_time": "2024-04-28T17:15:19.553328Z",
     "start_time": "2024-04-28T17:15:19.546004Z"
    }
   },
   "cell_type": "code",
   "source": [
    "print(a)\n",
    "a.mul_(b) # re-assigns the value of a with the multiplication of a and b\n",
    "print(a)"
   ],
   "id": "52905849953627ec",
   "outputs": [
    {
     "name": "stdout",
     "output_type": "stream",
     "text": [
      "tensor([0, 1, 2])\n",
      "tensor([0, 1, 4])\n"
     ]
    }
   ],
   "execution_count": 19
  },
  {
   "metadata": {
    "ExecuteTime": {
     "end_time": "2024-04-28T18:12:20.553798Z",
     "start_time": "2024-04-28T18:12:20.550286Z"
    }
   },
   "cell_type": "code",
   "source": [
    "x = torch.randint(0, 10, (3, 3))\n",
    "y = torch.randint(0, 10, (3, 3))\n",
    "print(x, y)"
   ],
   "id": "3b47554918ef25ab",
   "outputs": [
    {
     "name": "stdout",
     "output_type": "stream",
     "text": [
      "tensor([[6, 1, 8],\n",
      "        [9, 8, 1],\n",
      "        [2, 1, 6]]) tensor([[0, 7, 3],\n",
      "        [5, 0, 5],\n",
      "        [5, 8, 9]])\n"
     ]
    }
   ],
   "execution_count": 23
  },
  {
   "metadata": {
    "ExecuteTime": {
     "end_time": "2024-04-28T18:13:12.953241Z",
     "start_time": "2024-04-28T18:13:12.946694Z"
    }
   },
   "cell_type": "code",
   "source": [
    "z = torch.mm(x, y) #also valid a @ b\n",
    "print(z)"
   ],
   "id": "aa20aab2b4e5f846",
   "outputs": [
    {
     "name": "stdout",
     "output_type": "stream",
     "text": [
      "tensor([[ 45, 106,  95],\n",
      "        [ 45,  71,  76],\n",
      "        [ 35,  62,  65]])\n"
     ]
    }
   ],
   "execution_count": 24
  },
  {
   "metadata": {
    "ExecuteTime": {
     "end_time": "2024-04-28T18:14:39.612535Z",
     "start_time": "2024-04-28T18:14:39.608325Z"
    }
   },
   "cell_type": "code",
   "source": [
    "z_dot = torch.dot(a, b)\n",
    "print(z_dot)"
   ],
   "id": "fb47421193e4f1c9",
   "outputs": [
    {
     "name": "stdout",
     "output_type": "stream",
     "text": [
      "tensor(9)\n"
     ]
    }
   ],
   "execution_count": 26
  },
  {
   "metadata": {
    "ExecuteTime": {
     "end_time": "2024-04-28T18:25:21.533172Z",
     "start_time": "2024-04-28T18:25:21.527271Z"
    }
   },
   "cell_type": "code",
   "source": [
    "a = torch.randn(3, 3)\n",
    "a.norm()"
   ],
   "id": "e7527a8dfab88afd",
   "outputs": [
    {
     "data": {
      "text/plain": [
       "tensor(2.3728)"
      ]
     },
     "execution_count": 30,
     "metadata": {},
     "output_type": "execute_result"
    }
   ],
   "execution_count": 30
  },
  {
   "metadata": {},
   "cell_type": "code",
   "outputs": [],
   "execution_count": null,
   "source": "",
   "id": "b818fe27e38f37cf"
  }
 ],
 "metadata": {
  "kernelspec": {
   "display_name": "Python 3",
   "language": "python",
   "name": "python3"
  },
  "language_info": {
   "codemirror_mode": {
    "name": "ipython",
    "version": 2
   },
   "file_extension": ".py",
   "mimetype": "text/x-python",
   "name": "python",
   "nbconvert_exporter": "python",
   "pygments_lexer": "ipython2",
   "version": "2.7.6"
  }
 },
 "nbformat": 4,
 "nbformat_minor": 5
}
