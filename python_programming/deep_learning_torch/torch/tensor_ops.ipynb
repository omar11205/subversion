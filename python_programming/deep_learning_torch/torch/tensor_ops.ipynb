{
 "cells": [
  {
   "cell_type": "code",
   "id": "initial_id",
   "metadata": {
    "collapsed": true,
    "ExecuteTime": {
     "end_time": "2024-04-26T03:06:14.375262Z",
     "start_time": "2024-04-26T03:06:12.908486Z"
    }
   },
   "source": [
    "import torch\n",
    "import numpy as np"
   ],
   "outputs": [],
   "execution_count": 2
  },
  {
   "metadata": {
    "ExecuteTime": {
     "end_time": "2024-04-26T03:06:14.379542Z",
     "start_time": "2024-04-26T03:06:14.376269Z"
    }
   },
   "cell_type": "code",
   "source": [
    "x = torch.arange(6).reshape(3,2)\n",
    "print(x)"
   ],
   "id": "a4e91fcfe2746a0f",
   "outputs": [
    {
     "name": "stdout",
     "output_type": "stream",
     "text": [
      "tensor([[0, 1],\n",
      "        [2, 3],\n",
      "        [4, 5]])\n"
     ]
    }
   ],
   "execution_count": 3
  },
  {
   "metadata": {
    "ExecuteTime": {
     "end_time": "2024-04-26T03:06:14.385197Z",
     "start_time": "2024-04-26T03:06:14.379542Z"
    }
   },
   "cell_type": "code",
   "source": "type(x[1,1])",
   "id": "da05c3afbc0611f4",
   "outputs": [
    {
     "data": {
      "text/plain": [
       "torch.Tensor"
      ]
     },
     "execution_count": 4,
     "metadata": {},
     "output_type": "execute_result"
    }
   ],
   "execution_count": 4
  },
  {
   "metadata": {
    "ExecuteTime": {
     "end_time": "2024-04-26T03:06:14.390572Z",
     "start_time": "2024-04-26T03:06:14.386204Z"
    }
   },
   "cell_type": "code",
   "source": [
    "# returns a 1d tensor\n",
    "x[:,1]"
   ],
   "id": "a1cfeb56e4b4e572",
   "outputs": [
    {
     "data": {
      "text/plain": [
       "tensor([1, 3, 5])"
      ]
     },
     "execution_count": 5,
     "metadata": {},
     "output_type": "execute_result"
    }
   ],
   "execution_count": 5
  },
  {
   "metadata": {
    "ExecuteTime": {
     "end_time": "2024-04-26T03:06:14.395233Z",
     "start_time": "2024-04-26T03:06:14.391585Z"
    }
   },
   "cell_type": "code",
   "source": [
    "# returns a column tensor (column vector) (used often)\n",
    "x[:, 1:]"
   ],
   "id": "44b8a59e2ba97e78",
   "outputs": [
    {
     "data": {
      "text/plain": [
       "tensor([[1],\n",
       "        [3],\n",
       "        [5]])"
      ]
     },
     "execution_count": 6,
     "metadata": {},
     "output_type": "execute_result"
    }
   ],
   "execution_count": 6
  },
  {
   "metadata": {
    "ExecuteTime": {
     "end_time": "2024-04-26T03:06:14.398997Z",
     "start_time": "2024-04-26T03:06:14.396241Z"
    }
   },
   "cell_type": "code",
   "source": [
    "x = torch.arange(10)\n",
    "print(x)"
   ],
   "id": "727ef2ebaa02b38a",
   "outputs": [
    {
     "name": "stdout",
     "output_type": "stream",
     "text": [
      "tensor([0, 1, 2, 3, 4, 5, 6, 7, 8, 9])\n"
     ]
    }
   ],
   "execution_count": 7
  },
  {
   "metadata": {
    "ExecuteTime": {
     "end_time": "2024-04-26T03:21:24.390357Z",
     "start_time": "2024-04-26T03:21:24.387156Z"
    }
   },
   "cell_type": "code",
   "source": "z = x.view(2, 5)",
   "id": "d1a57040afca3056",
   "outputs": [],
   "execution_count": 12
  },
  {
   "metadata": {
    "ExecuteTime": {
     "end_time": "2024-04-26T03:21:27.754413Z",
     "start_time": "2024-04-26T03:21:27.751523Z"
    }
   },
   "cell_type": "code",
   "source": "y = x.reshape(2, 5)",
   "id": "5c87f5a7f54c35be",
   "outputs": [],
   "execution_count": 13
  },
  {
   "metadata": {
    "ExecuteTime": {
     "end_time": "2024-04-26T03:22:09.263180Z",
     "start_time": "2024-04-26T03:22:09.260151Z"
    }
   },
   "cell_type": "code",
   "source": "x[0] = 9999",
   "id": "cb278b3f5650e73",
   "outputs": [],
   "execution_count": 14
  },
  {
   "metadata": {
    "ExecuteTime": {
     "end_time": "2024-04-26T03:22:30.079200Z",
     "start_time": "2024-04-26T03:22:30.075693Z"
    }
   },
   "cell_type": "code",
   "source": [
    "print(z)\n",
    "print(y)"
   ],
   "id": "f072ffaee49ea332",
   "outputs": [
    {
     "name": "stdout",
     "output_type": "stream",
     "text": [
      "tensor([[9999,    1,    2,    3,    4],\n",
      "        [   5,    6,    7,    8,    9]])\n",
      "tensor([[9999,    1,    2,    3,    4],\n",
      "        [   5,    6,    7,    8,    9]])\n"
     ]
    }
   ],
   "execution_count": 16
  },
  {
   "metadata": {},
   "cell_type": "code",
   "outputs": [],
   "execution_count": null,
   "source": "",
   "id": "c63bc2588bf54739"
  }
 ],
 "metadata": {
  "kernelspec": {
   "display_name": "Python 3",
   "language": "python",
   "name": "python3"
  },
  "language_info": {
   "codemirror_mode": {
    "name": "ipython",
    "version": 2
   },
   "file_extension": ".py",
   "mimetype": "text/x-python",
   "name": "python",
   "nbconvert_exporter": "python",
   "pygments_lexer": "ipython2",
   "version": "2.7.6"
  }
 },
 "nbformat": 4,
 "nbformat_minor": 5
}
