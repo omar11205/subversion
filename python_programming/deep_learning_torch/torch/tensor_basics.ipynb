{
 "cells": [
  {
   "cell_type": "code",
   "id": "initial_id",
   "metadata": {
    "collapsed": true,
    "ExecuteTime": {
     "end_time": "2024-04-24T23:39:31.403887Z",
     "start_time": "2024-04-24T23:39:31.400789Z"
    }
   },
   "source": [
    "import torch\n",
    "import numpy as np"
   ],
   "outputs": [],
   "execution_count": 2
  },
  {
   "metadata": {
    "ExecuteTime": {
     "end_time": "2024-04-24T23:39:43.880183Z",
     "start_time": "2024-04-24T23:39:43.875254Z"
    }
   },
   "cell_type": "code",
   "source": "torch.__version__",
   "id": "ca608b31957c4369",
   "outputs": [
    {
     "data": {
      "text/plain": [
       "'2.2.2+cpu'"
      ]
     },
     "execution_count": 3,
     "metadata": {},
     "output_type": "execute_result"
    }
   ],
   "execution_count": 3
  },
  {
   "metadata": {
    "ExecuteTime": {
     "end_time": "2024-04-24T23:40:51.532771Z",
     "start_time": "2024-04-24T23:40:51.529112Z"
    }
   },
   "cell_type": "code",
   "source": [
    "arr = np.array(range(1,6))\n",
    "print(arr)"
   ],
   "id": "43e905e9ee611767",
   "outputs": [
    {
     "name": "stdout",
     "output_type": "stream",
     "text": [
      "[1 2 3 4 5]\n"
     ]
    }
   ],
   "execution_count": 6
  },
  {
   "metadata": {
    "ExecuteTime": {
     "end_time": "2024-04-24T23:42:34.401994Z",
     "start_time": "2024-04-24T23:42:34.398644Z"
    }
   },
   "cell_type": "code",
   "source": [
    "# create a tensor pointing the same memory location than the np array\n",
    "x = torch.from_numpy(arr)\n",
    "# torch.as_tensor(arr)\n",
    "type(x)"
   ],
   "id": "24fd3dd78aa8ff9d",
   "outputs": [
    {
     "data": {
      "text/plain": [
       "torch.Tensor"
      ]
     },
     "execution_count": 9,
     "metadata": {},
     "output_type": "execute_result"
    }
   ],
   "execution_count": 9
  },
  {
   "metadata": {
    "ExecuteTime": {
     "end_time": "2024-04-24T23:44:44.299131Z",
     "start_time": "2024-04-24T23:44:44.296273Z"
    }
   },
   "cell_type": "code",
   "source": [
    "# creating a torch 2d tensor from nparray (pointing the same memory location)\n",
    "arr2d = np.arange(0.0, 12.0).reshape(4, 3)"
   ],
   "id": "e919f969636bbf0b",
   "outputs": [],
   "execution_count": 10
  },
  {
   "metadata": {
    "ExecuteTime": {
     "end_time": "2024-04-24T23:44:57.874356Z",
     "start_time": "2024-04-24T23:44:57.871919Z"
    }
   },
   "cell_type": "code",
   "source": "x2 = torch.from_numpy(arr2d)",
   "id": "29e389ac93685511",
   "outputs": [],
   "execution_count": 11
  },
  {
   "metadata": {
    "ExecuteTime": {
     "end_time": "2024-04-24T23:45:04.972214Z",
     "start_time": "2024-04-24T23:45:04.968038Z"
    }
   },
   "cell_type": "code",
   "source": "x2",
   "id": "32039da5104a2425",
   "outputs": [
    {
     "data": {
      "text/plain": [
       "tensor([[ 0.,  1.,  2.],\n",
       "        [ 3.,  4.,  5.],\n",
       "        [ 6.,  7.,  8.],\n",
       "        [ 9., 10., 11.]], dtype=torch.float64)"
      ]
     },
     "execution_count": 12,
     "metadata": {},
     "output_type": "execute_result"
    }
   ],
   "execution_count": 12
  },
  {
   "metadata": {
    "ExecuteTime": {
     "end_time": "2024-04-24T23:46:26.263254Z",
     "start_time": "2024-04-24T23:46:26.260663Z"
    }
   },
   "cell_type": "code",
   "source": "arr[0] = 99",
   "id": "a537b9c8e39cfbf8",
   "outputs": [],
   "execution_count": 13
  },
  {
   "metadata": {
    "ExecuteTime": {
     "end_time": "2024-04-24T23:46:30.747148Z",
     "start_time": "2024-04-24T23:46:30.742758Z"
    }
   },
   "cell_type": "code",
   "source": "x",
   "id": "4c1990ec51d44414",
   "outputs": [
    {
     "data": {
      "text/plain": [
       "tensor([99,  2,  3,  4,  5], dtype=torch.int32)"
      ]
     },
     "execution_count": 14,
     "metadata": {},
     "output_type": "execute_result"
    }
   ],
   "execution_count": 14
  },
  {
   "metadata": {
    "ExecuteTime": {
     "end_time": "2024-04-24T23:51:28.028756Z",
     "start_time": "2024-04-24T23:51:28.025030Z"
    }
   },
   "cell_type": "code",
   "source": [
    "# creating a working copy\n",
    "my_arr = np.arange(0,10)\n",
    "my_tensor = torch.tensor(my_arr) #integer tensor\n",
    "my_tensor_f = torch.Tensor(my_arr) #flotating point tensor"
   ],
   "id": "702c708baa9b71a1",
   "outputs": [],
   "execution_count": 17
  },
  {
   "metadata": {
    "ExecuteTime": {
     "end_time": "2024-04-24T23:51:48.762539Z",
     "start_time": "2024-04-24T23:51:48.758949Z"
    }
   },
   "cell_type": "code",
   "source": "my_tensor.dtype",
   "id": "7c08b7e950b173f",
   "outputs": [
    {
     "data": {
      "text/plain": [
       "torch.int32"
      ]
     },
     "execution_count": 20,
     "metadata": {},
     "output_type": "execute_result"
    }
   ],
   "execution_count": 20
  },
  {
   "metadata": {
    "ExecuteTime": {
     "end_time": "2024-04-24T23:51:41.826919Z",
     "start_time": "2024-04-24T23:51:41.823543Z"
    }
   },
   "cell_type": "code",
   "source": "my_tensor_f.dtype",
   "id": "44ef275ac2463c66",
   "outputs": [
    {
     "data": {
      "text/plain": [
       "torch.float32"
      ]
     },
     "execution_count": 19,
     "metadata": {},
     "output_type": "execute_result"
    }
   ],
   "execution_count": 19
  },
  {
   "metadata": {
    "ExecuteTime": {
     "end_time": "2024-04-24T23:54:17.888704Z",
     "start_time": "2024-04-24T23:54:17.885143Z"
    }
   },
   "cell_type": "code",
   "source": [
    "# creating tensors with torch\n",
    "# uninitialized tensor (block of memory of size of the tensor)\n",
    "torch.empty(4,2)"
   ],
   "id": "6af41b6b612c84d4",
   "outputs": [
    {
     "data": {
      "text/plain": [
       "tensor([[0., 0.],\n",
       "        [0., 0.],\n",
       "        [0., 0.],\n",
       "        [0., 0.]])"
      ]
     },
     "execution_count": 23,
     "metadata": {},
     "output_type": "execute_result"
    }
   ],
   "execution_count": 23
  },
  {
   "metadata": {
    "ExecuteTime": {
     "end_time": "2024-04-24T23:55:13.407385Z",
     "start_time": "2024-04-24T23:55:13.403601Z"
    }
   },
   "cell_type": "code",
   "source": [
    "# zeros tensor \n",
    "torch.zeros(4,2, dtype=torch.int32)"
   ],
   "id": "81796f14da40856e",
   "outputs": [
    {
     "data": {
      "text/plain": [
       "tensor([[0, 0],\n",
       "        [0, 0],\n",
       "        [0, 0],\n",
       "        [0, 0]], dtype=torch.int32)"
      ]
     },
     "execution_count": 25,
     "metadata": {},
     "output_type": "execute_result"
    }
   ],
   "execution_count": 25
  },
  {
   "metadata": {},
   "cell_type": "code",
   "outputs": [],
   "execution_count": null,
   "source": "torch.ones()",
   "id": "de26f61ff5b2ced2"
  }
 ],
 "metadata": {
  "kernelspec": {
   "display_name": "Python 3",
   "language": "python",
   "name": "python3"
  },
  "language_info": {
   "codemirror_mode": {
    "name": "ipython",
    "version": 2
   },
   "file_extension": ".py",
   "mimetype": "text/x-python",
   "name": "python",
   "nbconvert_exporter": "python",
   "pygments_lexer": "ipython2",
   "version": "2.7.6"
  }
 },
 "nbformat": 4,
 "nbformat_minor": 5
}
