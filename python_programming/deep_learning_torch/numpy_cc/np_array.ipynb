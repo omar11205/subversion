{
 "cells": [
  {
   "cell_type": "code",
   "id": "initial_id",
   "metadata": {
    "collapsed": true,
    "ExecuteTime": {
     "end_time": "2024-04-14T13:10:01.766731Z",
     "start_time": "2024-04-14T13:10:01.763792Z"
    }
   },
   "source": "import numpy as np",
   "outputs": [],
   "execution_count": 8
  },
  {
   "metadata": {
    "ExecuteTime": {
     "end_time": "2024-04-14T13:10:01.774621Z",
     "start_time": "2024-04-14T13:10:01.770737Z"
    }
   },
   "cell_type": "code",
   "source": [
    "# from list to np.array\n",
    "mylist = [1, 2, 3]\n",
    "type(mylist)"
   ],
   "id": "b283b474d117b1d9",
   "outputs": [
    {
     "data": {
      "text/plain": [
       "list"
      ]
     },
     "execution_count": 9,
     "metadata": {},
     "output_type": "execute_result"
    }
   ],
   "execution_count": 9
  },
  {
   "metadata": {
    "ExecuteTime": {
     "end_time": "2024-04-14T13:10:01.778653Z",
     "start_time": "2024-04-14T13:10:01.775629Z"
    }
   },
   "cell_type": "code",
   "source": [
    "np_arr = np.array(mylist)\n",
    "type(np_arr)"
   ],
   "id": "5d70e03e7fb94122",
   "outputs": [
    {
     "data": {
      "text/plain": [
       "numpy.ndarray"
      ]
     },
     "execution_count": 10,
     "metadata": {},
     "output_type": "execute_result"
    }
   ],
   "execution_count": 10
  },
  {
   "metadata": {
    "ExecuteTime": {
     "end_time": "2024-04-14T13:10:01.781541Z",
     "start_time": "2024-04-14T13:10:01.778653Z"
    }
   },
   "cell_type": "code",
   "source": [
    "# A list o tree lists in python becomes a 3x3 matrix with np.array\n",
    "my_list = [[1,2,3],[4,5,6],[7,8,9]]\n",
    "np_matrix = np.array(my_list)"
   ],
   "id": "6f9210f780a675ae",
   "outputs": [],
   "execution_count": 11
  },
  {
   "metadata": {
    "ExecuteTime": {
     "end_time": "2024-04-14T13:10:01.785102Z",
     "start_time": "2024-04-14T13:10:01.782550Z"
    }
   },
   "cell_type": "code",
   "source": "print(np_matrix)",
   "id": "3436c9bb96521b95",
   "outputs": [
    {
     "name": "stdout",
     "output_type": "stream",
     "text": [
      "[[1 2 3]\n",
      " [4 5 6]\n",
      " [7 8 9]]\n"
     ]
    }
   ],
   "execution_count": 12
  },
  {
   "metadata": {
    "ExecuteTime": {
     "end_time": "2024-04-14T13:10:01.788929Z",
     "start_time": "2024-04-14T13:10:01.785102Z"
    }
   },
   "cell_type": "code",
   "source": "np_matrix.shape",
   "id": "fa2fa2a595171c61",
   "outputs": [
    {
     "data": {
      "text/plain": [
       "(3, 3)"
      ]
     },
     "execution_count": 13,
     "metadata": {},
     "output_type": "execute_result"
    }
   ],
   "execution_count": 13
  },
  {
   "metadata": {
    "ExecuteTime": {
     "end_time": "2024-04-14T13:10:01.792659Z",
     "start_time": "2024-04-14T13:10:01.789937Z"
    }
   },
   "cell_type": "code",
   "source": [
    "# numpy array from 0 to 10 [0, 12) excluding 12 including 0\n",
    "arrange = np.arange(0, 12, 1)\n",
    "print(arrange)\n",
    "print(type(arrange))\n",
    "print(len(arrange))"
   ],
   "id": "74a9b3d64d2cfab3",
   "outputs": [
    {
     "name": "stdout",
     "output_type": "stream",
     "text": [
      "[ 0  1  2  3  4  5  6  7  8  9 10 11]\n",
      "<class 'numpy.ndarray'>\n",
      "12\n"
     ]
    }
   ],
   "execution_count": 14
  },
  {
   "metadata": {
    "ExecuteTime": {
     "end_time": "2024-04-14T13:10:01.796653Z",
     "start_time": "2024-04-14T13:10:01.792659Z"
    }
   },
   "cell_type": "code",
   "source": [
    "# creating an array of zeros (type of zeros is float)\n",
    "npz = np.zeros((2,2))\n",
    "print(npz)\n",
    "print(type(npz[0][0]))"
   ],
   "id": "1eed98447cb061ae",
   "outputs": [
    {
     "name": "stdout",
     "output_type": "stream",
     "text": [
      "[[0. 0.]\n",
      " [0. 0.]]\n",
      "<class 'numpy.float64'>\n"
     ]
    }
   ],
   "execution_count": 15
  },
  {
   "metadata": {
    "ExecuteTime": {
     "end_time": "2024-04-14T13:10:01.800515Z",
     "start_time": "2024-04-14T13:10:01.797660Z"
    }
   },
   "cell_type": "code",
   "source": [
    "# creating an array of ones\n",
    "np_ones = np.ones((2,2))\n",
    "print(np_ones)"
   ],
   "id": "b08ef6149886d4e",
   "outputs": [
    {
     "name": "stdout",
     "output_type": "stream",
     "text": [
      "[[1. 1.]\n",
      " [1. 1.]]\n"
     ]
    }
   ],
   "execution_count": 16
  },
  {
   "metadata": {
    "ExecuteTime": {
     "end_time": "2024-04-14T13:10:01.804537Z",
     "start_time": "2024-04-14T13:10:01.801521Z"
    }
   },
   "cell_type": "code",
   "source": [
    "# numpy broadcasting\n",
    "np.ones((3,3))*4"
   ],
   "id": "31539daf91e4bd45",
   "outputs": [
    {
     "data": {
      "text/plain": [
       "array([[4., 4., 4.],\n",
       "       [4., 4., 4.],\n",
       "       [4., 4., 4.]])"
      ]
     },
     "execution_count": 17,
     "metadata": {},
     "output_type": "execute_result"
    }
   ],
   "execution_count": 17
  },
  {
   "metadata": {
    "ExecuteTime": {
     "end_time": "2024-04-14T13:10:01.808351Z",
     "start_time": "2024-04-14T13:10:01.804537Z"
    }
   },
   "cell_type": "code",
   "source": [
    "# evenly spaced np array [0,10]\n",
    "np.linspace(0,10,11) "
   ],
   "id": "1996f3dea4427516",
   "outputs": [
    {
     "data": {
      "text/plain": [
       "array([ 0.,  1.,  2.,  3.,  4.,  5.,  6.,  7.,  8.,  9., 10.])"
      ]
     },
     "execution_count": 18,
     "metadata": {},
     "output_type": "execute_result"
    }
   ],
   "execution_count": 18
  },
  {
   "metadata": {
    "ExecuteTime": {
     "end_time": "2024-04-14T13:10:01.812322Z",
     "start_time": "2024-04-14T13:10:01.809357Z"
    }
   },
   "cell_type": "code",
   "source": [
    "# create an identity matrix\n",
    "np.eye(3)"
   ],
   "id": "54f3f1a7c97434dc",
   "outputs": [
    {
     "data": {
      "text/plain": [
       "array([[1., 0., 0.],\n",
       "       [0., 1., 0.],\n",
       "       [0., 0., 1.]])"
      ]
     },
     "execution_count": 19,
     "metadata": {},
     "output_type": "execute_result"
    }
   ],
   "execution_count": 19
  },
  {
   "metadata": {
    "ExecuteTime": {
     "end_time": "2024-04-14T13:12:34.404435Z",
     "start_time": "2024-04-14T13:12:34.400388Z"
    }
   },
   "cell_type": "code",
   "source": [
    "# random numpy library\n",
    "# random sample (numbers) from a uniform distribution over zero and one\n",
    "# every number between 0, and 1 has the same probability of getting chosen\n",
    "np.random.rand(4,4)"
   ],
   "id": "374dd0a236fe0d78",
   "outputs": [
    {
     "data": {
      "text/plain": [
       "array([[0.0911123 , 0.06686913, 0.54910248, 0.27198122],\n",
       "       [0.9133344 , 0.60978747, 0.02639351, 0.1732951 ],\n",
       "       [0.37628099, 0.10195452, 0.17552217, 0.61181626],\n",
       "       [0.86904605, 0.88898508, 0.66582823, 0.70279576]])"
      ]
     },
     "execution_count": 22,
     "metadata": {},
     "output_type": "execute_result"
    }
   ],
   "execution_count": 22
  },
  {
   "metadata": {
    "ExecuteTime": {
     "end_time": "2024-04-14T13:15:44.541533Z",
     "start_time": "2024-04-14T13:15:44.537150Z"
    }
   },
   "cell_type": "code",
   "source": [
    "# random sample from a normal distribution over zero and one\n",
    "# a normal distribution has a mean of (0) and standard deviation at 1. This means that the numbers returned are between -1 and 1\n",
    "np.random.randn(3,3)"
   ],
   "id": "187f9283b522bbe9",
   "outputs": [
    {
     "data": {
      "text/plain": [
       "array([ 0.29213477,  0.71465945, -0.03864481])"
      ]
     },
     "execution_count": 23,
     "metadata": {},
     "output_type": "execute_result"
    }
   ],
   "execution_count": 23
  },
  {
   "metadata": {},
   "cell_type": "code",
   "outputs": [],
   "execution_count": null,
   "source": "",
   "id": "2ebcdfa8ab837774"
  }
 ],
 "metadata": {
  "kernelspec": {
   "display_name": "Python 3",
   "language": "python",
   "name": "python3"
  },
  "language_info": {
   "codemirror_mode": {
    "name": "ipython",
    "version": 2
   },
   "file_extension": ".py",
   "mimetype": "text/x-python",
   "name": "python",
   "nbconvert_exporter": "python",
   "pygments_lexer": "ipython2",
   "version": "2.7.6"
  }
 },
 "nbformat": 4,
 "nbformat_minor": 5
}
